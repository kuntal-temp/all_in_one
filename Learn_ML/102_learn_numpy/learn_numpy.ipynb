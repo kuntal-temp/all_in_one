{
 "cells": [
  {
   "cell_type": "code",
   "execution_count": 1,
   "id": "f45a1c85",
   "metadata": {},
   "outputs": [],
   "source": [
    "import numpy as np"
   ]
  },
  {
   "cell_type": "code",
   "execution_count": 2,
   "id": "4cefda05",
   "metadata": {},
   "outputs": [],
   "source": [
    "list_1D = [10, 20, 30, 40, 50, 60, 70, 80, 90]\n",
    "list_2D = [\n",
    "    [10, 20],\n",
    "    [30, 40],\n",
    "    [50, 60],\n",
    "    [70, 80],\n",
    "    [90, 100]\n",
    "]\n",
    "list_3D = [\n",
    "    [\n",
    "        [10, 20],\n",
    "        [30, 40]\n",
    "    ],\n",
    "    [\n",
    "        [50, 60],\n",
    "        [70, 80]\n",
    "    ]\n",
    "]"
   ]
  },
  {
   "cell_type": "code",
   "execution_count": 3,
   "id": "f05ddb6d",
   "metadata": {},
   "outputs": [
    {
     "name": "stdout",
     "output_type": "stream",
     "text": [
      "1D array::\n",
      " [10. 20. 30. 40. 50. 60. 70. 80. 90.] shape= (9,) ndim= 1 size= 9 dtype= float64 itemsize= 8\n",
      "2D array::\n",
      " [[ 10.+0.j  20.+0.j]\n",
      " [ 30.+0.j  40.+0.j]\n",
      " [ 50.+0.j  60.+0.j]\n",
      " [ 70.+0.j  80.+0.j]\n",
      " [ 90.+0.j 100.+0.j]] shape= (5, 2) ndim= 2 size= 10 dtype= complex128 itemsize= 16\n",
      "3D array::\n",
      " [[[10 20]\n",
      "  [30 40]]\n",
      "\n",
      " [[50 60]\n",
      "  [70 80]]] shape= (2, 2, 2) ndim= 3 size= 8 dtype= int64 itemsize= 8\n"
     ]
    }
   ],
   "source": [
    "# np array creation\n",
    "array_1D = np.array(list_1D, dtype='float')\n",
    "print(\"1D array::\\n\", array_1D, \"shape=\", array_1D.shape, \"ndim=\", array_1D.ndim, \"size=\", array_1D.size, \"dtype=\", array_1D.dtype, \"itemsize=\", array_1D.itemsize)\n",
    "array_2D= np.array(list_2D, dtype='complex')\n",
    "print(\"2D array::\\n\", array_2D, \"shape=\", array_2D.shape, \"ndim=\", array_2D.ndim, \"size=\", array_2D.size, \"dtype=\", array_2D.dtype, \"itemsize=\", array_2D.itemsize)\n",
    "array_3D= np.array(list_3D, dtype='int')\n",
    "print(\"3D array::\\n\", array_3D, \"shape=\", array_3D.shape, \"ndim=\", array_3D.ndim, \"size=\", array_3D.size, \"dtype=\", array_3D.dtype, \"itemsize=\", array_3D.itemsize)"
   ]
  },
  {
   "cell_type": "code",
   "execution_count": 4,
   "id": "0e839d49",
   "metadata": {},
   "outputs": [],
   "source": [
    "list1 = [1,2,3,4,5]\n",
    "list2 = [[1, 2, 3], [4, 5, 6]]"
   ]
  },
  {
   "cell_type": "code",
   "execution_count": 5,
   "id": "32dae9b6",
   "metadata": {
    "scrolled": false
   },
   "outputs": [
    {
     "name": "stdout",
     "output_type": "stream",
     "text": [
      "[2. 3. 4.]\n"
     ]
    }
   ],
   "source": [
    "list3 = np.array([2, 3, 4], dtype='float')\n",
    "list3 = np.array([2, 3, 4], dtype=np.float64)\n",
    "print(list3)"
   ]
  },
  {
   "cell_type": "code",
   "execution_count": 6,
   "id": "9a207291",
   "metadata": {},
   "outputs": [
    {
     "name": "stdout",
     "output_type": "stream",
     "text": [
      "[[1.+0.j 2.+0.j]\n",
      " [3.+0.j 4.+0.j]]\n"
     ]
    }
   ],
   "source": [
    "list4 = np.array([[1, 2], [3, 4]], dtype=complex)\n",
    "print(list4)"
   ]
  },
  {
   "cell_type": "code",
   "execution_count": 7,
   "id": "7fe4a7d1",
   "metadata": {},
   "outputs": [
    {
     "name": "stdout",
     "output_type": "stream",
     "text": [
      "[1 2 3 4 5]\n"
     ]
    }
   ],
   "source": [
    "np_array1 = np.array(list1)\n",
    "print(np_array1)"
   ]
  },
  {
   "cell_type": "code",
   "execution_count": 8,
   "id": "a51664e5",
   "metadata": {},
   "outputs": [
    {
     "name": "stdout",
     "output_type": "stream",
     "text": [
      "[[1 2 3]\n",
      " [4 5 6]]\n"
     ]
    }
   ],
   "source": [
    "np_array2 = np.array(list2)\n",
    "print(np_array2)"
   ]
  },
  {
   "cell_type": "code",
   "execution_count": 9,
   "id": "6b741cb7",
   "metadata": {},
   "outputs": [
    {
     "name": "stdout",
     "output_type": "stream",
     "text": [
      "(5,)\n"
     ]
    }
   ],
   "source": [
    "print(np_array1.shape)"
   ]
  },
  {
   "cell_type": "code",
   "execution_count": 10,
   "id": "dd3bec67",
   "metadata": {},
   "outputs": [
    {
     "name": "stdout",
     "output_type": "stream",
     "text": [
      "1\n"
     ]
    }
   ],
   "source": [
    "print(np_array1.ndim)"
   ]
  },
  {
   "cell_type": "code",
   "execution_count": 11,
   "id": "7aa63d3b",
   "metadata": {},
   "outputs": [
    {
     "name": "stdout",
     "output_type": "stream",
     "text": [
      "int64\n"
     ]
    }
   ],
   "source": [
    "print(np_array1.dtype)"
   ]
  },
  {
   "cell_type": "code",
   "execution_count": 12,
   "id": "2d46e6f9",
   "metadata": {},
   "outputs": [
    {
     "name": "stdout",
     "output_type": "stream",
     "text": [
      "int64\n"
     ]
    }
   ],
   "source": [
    "print(np_array1.dtype.name)"
   ]
  },
  {
   "cell_type": "code",
   "execution_count": 13,
   "id": "2b2a676f",
   "metadata": {},
   "outputs": [
    {
     "name": "stdout",
     "output_type": "stream",
     "text": [
      "5\n"
     ]
    }
   ],
   "source": [
    "print(np_array1.max())"
   ]
  },
  {
   "cell_type": "code",
   "execution_count": 14,
   "id": "33858500",
   "metadata": {},
   "outputs": [
    {
     "name": "stdout",
     "output_type": "stream",
     "text": [
      "1\n"
     ]
    }
   ],
   "source": [
    "print(np_array1.min())"
   ]
  },
  {
   "cell_type": "code",
   "execution_count": 15,
   "id": "8f8ea1de",
   "metadata": {},
   "outputs": [
    {
     "name": "stdout",
     "output_type": "stream",
     "text": [
      "15\n"
     ]
    }
   ],
   "source": [
    "print(np_array1.sum())"
   ]
  },
  {
   "cell_type": "code",
   "execution_count": 16,
   "id": "31d35bfc",
   "metadata": {},
   "outputs": [
    {
     "name": "stdout",
     "output_type": "stream",
     "text": [
      "[[1 2 3]\n",
      " [4 5 6]]\n"
     ]
    }
   ],
   "source": [
    "print(np_array2)"
   ]
  },
  {
   "cell_type": "code",
   "execution_count": 17,
   "id": "04b6dd65",
   "metadata": {},
   "outputs": [
    {
     "name": "stdout",
     "output_type": "stream",
     "text": [
      "21\n"
     ]
    }
   ],
   "source": [
    "print(np_array2.sum())"
   ]
  },
  {
   "cell_type": "code",
   "execution_count": 18,
   "id": "d36a129b",
   "metadata": {
    "scrolled": true
   },
   "outputs": [
    {
     "name": "stdout",
     "output_type": "stream",
     "text": [
      "[5 7 9]\n"
     ]
    }
   ],
   "source": [
    "max_col = np_array2.sum(axis=0) #col\n",
    "print(max_col)"
   ]
  },
  {
   "cell_type": "code",
   "execution_count": 19,
   "id": "842d07ea",
   "metadata": {},
   "outputs": [
    {
     "name": "stdout",
     "output_type": "stream",
     "text": [
      "[ 6 15]\n"
     ]
    }
   ],
   "source": [
    "max_col = np_array2.sum(axis=1) #row\n",
    "print(max_col)"
   ]
  },
  {
   "cell_type": "code",
   "execution_count": 20,
   "id": "5f432293",
   "metadata": {},
   "outputs": [
    {
     "name": "stdout",
     "output_type": "stream",
     "text": [
      "sorted_array:: [[1 4]\n",
      " [1 3]]\n",
      "sorted_array:: [1 1 3 4]\n",
      "sorted_array:: [[1 1]\n",
      " [3 4]]\n",
      "argsort_array:: [0 3 2 1]\n",
      "argmax_array:: 1\n",
      "[1 2 3 4 5]\n"
     ]
    }
   ],
   "source": [
    "# sort & filtering\n",
    "array_700 = np.array([[1,4],[3,1]])\n",
    "\n",
    "sorted_array = np.sort(array_700)\n",
    "print(\"sorted_array::\", sorted_array)\n",
    "\n",
    "sorted_array = np.sort(array_700, axis=None)\n",
    "print(\"sorted_array::\", sorted_array)\n",
    "\n",
    "sorted_array = np.sort(array_700, axis=0)\n",
    "print(\"sorted_array::\", sorted_array)\n",
    "\n",
    "sorted_array = np.argsort(array_700, axis=None)\n",
    "print(\"argsort_array::\", sorted_array)\n",
    "\n",
    "sorted_array = np.argmax(array_700, axis=None)\n",
    "print(\"argmax_array::\", sorted_array)\n",
    "\n",
    "sort = np.sort(np_array1)\n",
    "print(sort)"
   ]
  },
  {
   "cell_type": "code",
   "execution_count": 21,
   "id": "40bb25a7",
   "metadata": {},
   "outputs": [
    {
     "name": "stdout",
     "output_type": "stream",
     "text": [
      "5\n"
     ]
    }
   ],
   "source": [
    "print(np_array1.size)"
   ]
  },
  {
   "cell_type": "code",
   "execution_count": 22,
   "id": "eb0d4c29",
   "metadata": {},
   "outputs": [
    {
     "name": "stdout",
     "output_type": "stream",
     "text": [
      "<memory at 0x7f428d986b80>\n"
     ]
    }
   ],
   "source": [
    "print(np_array1.data)"
   ]
  },
  {
   "cell_type": "code",
   "execution_count": 23,
   "id": "91b24a0f",
   "metadata": {},
   "outputs": [
    {
     "name": "stdout",
     "output_type": "stream",
     "text": [
      "[1.         1.41421356 1.73205081 2.         2.23606798]\n"
     ]
    }
   ],
   "source": [
    "sqrt = np.sqrt(np_array1)\n",
    "print(sqrt)"
   ]
  },
  {
   "cell_type": "code",
   "execution_count": 24,
   "id": "f4bc4726",
   "metadata": {},
   "outputs": [
    {
     "name": "stdout",
     "output_type": "stream",
     "text": [
      "[  2.71828183   7.3890561   20.08553692  54.59815003 148.4131591 ]\n"
     ]
    }
   ],
   "source": [
    "exp = np.exp(np_array1)\n",
    "print(exp)"
   ]
  },
  {
   "cell_type": "code",
   "execution_count": 25,
   "id": "461db784",
   "metadata": {},
   "outputs": [
    {
     "name": "stdout",
     "output_type": "stream",
     "text": [
      "[1 2 3 4 5]\n"
     ]
    }
   ],
   "source": [
    "copy_np_array1 = np_array1.copy()\n",
    "print(copy_np_array1)"
   ]
  },
  {
   "cell_type": "code",
   "execution_count": 26,
   "id": "c1ca9c0c",
   "metadata": {},
   "outputs": [
    {
     "name": "stdout",
     "output_type": "stream",
     "text": [
      "zeros::\n",
      " [[0 0 0 0]\n",
      " [0 0 0 0]]\n",
      "zeros_like::\n",
      " [[0 0 0 0]\n",
      " [0 0 0 0]]\n",
      "zeros_like::\n",
      " [[0.+0.j 0.+0.j]\n",
      " [0.+0.j 0.+0.j]\n",
      " [0.+0.j 0.+0.j]\n",
      " [0.+0.j 0.+0.j]]\n"
     ]
    }
   ],
   "source": [
    "# zeros & zeros_like\n",
    "array_100 = np.zeros(shape=(2, 4), dtype='int')\n",
    "print(\"zeros::\\n\", array_100)\n",
    "\n",
    "array_200 = np.zeros_like(array_100)\n",
    "print(\"zeros_like::\\n\", array_200)\n",
    "\n",
    "array_200 = np.zeros_like(array_100, shape=(4, 2), dtype='complex')\n",
    "print(\"zeros_like::\\n\", array_200)"
   ]
  },
  {
   "cell_type": "code",
   "execution_count": 27,
   "id": "72fa7cc2",
   "metadata": {},
   "outputs": [
    {
     "name": "stdout",
     "output_type": "stream",
     "text": [
      "[0. 0. 0. 0.]\n",
      "[[0. 0.]\n",
      " [0. 0.]]\n"
     ]
    }
   ],
   "source": [
    "np_array = np.zeros(4)\n",
    "print(np_array)\n",
    "\n",
    "np_array = np.zeros((2,2))\n",
    "print(np_array)"
   ]
  },
  {
   "cell_type": "code",
   "execution_count": 28,
   "id": "d68863cf",
   "metadata": {},
   "outputs": [
    {
     "name": "stdout",
     "output_type": "stream",
     "text": [
      "ones::\n",
      " [[1 1 1 1]\n",
      " [1 1 1 1]]\n",
      "ones_like::\n",
      " [[1 1 1 1]\n",
      " [1 1 1 1]]\n"
     ]
    }
   ],
   "source": [
    "# ones & ones_like\n",
    "array_100 = np.ones(shape=(2, 4), dtype='int')\n",
    "print(\"ones::\\n\", array_100)\n",
    "\n",
    "array_200 = np.ones_like(array_100)\n",
    "print(\"ones_like::\\n\", array_200)"
   ]
  },
  {
   "cell_type": "code",
   "execution_count": 29,
   "id": "774c03c0",
   "metadata": {},
   "outputs": [
    {
     "name": "stdout",
     "output_type": "stream",
     "text": [
      "[1. 1. 1. 1.]\n",
      "[[1. 1.]\n",
      " [1. 1.]]\n"
     ]
    }
   ],
   "source": [
    "np_array = np.ones(4)\n",
    "print(np_array)\n",
    "\n",
    "np_array = np.ones((2,2))\n",
    "print(np_array)"
   ]
  },
  {
   "cell_type": "code",
   "execution_count": 30,
   "id": "e900cfc6",
   "metadata": {},
   "outputs": [
    {
     "name": "stdout",
     "output_type": "stream",
     "text": [
      "[[1. 0. 0. 0.]\n",
      " [0. 1. 0. 0.]\n",
      " [0. 0. 1. 0.]\n",
      " [0. 0. 0. 1.]]\n"
     ]
    }
   ],
   "source": [
    "np_array = np.eye(4)\n",
    "print(np_array)"
   ]
  },
  {
   "cell_type": "code",
   "execution_count": 31,
   "id": "fb983c07",
   "metadata": {},
   "outputs": [
    {
     "name": "stdout",
     "output_type": "stream",
     "text": [
      "empty::\n",
      " [[4607182418800017408 4607182418800017408]\n",
      " [4607182418800017408 4607182418800017408]]\n",
      "empty_like::\n",
      " [[4607182418800017408 4607182418800017408]\n",
      " [4607182418800017408 4607182418800017408]]\n"
     ]
    }
   ],
   "source": [
    "# empty & empty_like\n",
    "array_100 = np.empty(shape=(2, 2), dtype='int')\n",
    "print(\"empty::\\n\", array_100)\n",
    "\n",
    "array_200 = np.empty_like(array_100)\n",
    "print(\"empty_like::\\n\", array_200)"
   ]
  },
  {
   "cell_type": "code",
   "execution_count": 32,
   "id": "49eacf9f",
   "metadata": {},
   "outputs": [
    {
     "name": "stdout",
     "output_type": "stream",
     "text": [
      "[[5.e-324 5.e-324]\n",
      " [5.e-324 5.e-324]\n",
      " [5.e-324 5.e-324]\n",
      " [5.e-324 5.e-324]]\n"
     ]
    }
   ],
   "source": [
    "np_array = np.empty((4,2))\n",
    "print(np_array)"
   ]
  },
  {
   "cell_type": "code",
   "execution_count": 33,
   "id": "27f964a6",
   "metadata": {},
   "outputs": [
    {
     "name": "stdout",
     "output_type": "stream",
     "text": [
      "identity::\n",
      " [[1.+0.j 0.+0.j]\n",
      " [0.+0.j 1.+0.j]]\n"
     ]
    }
   ],
   "source": [
    "# identity\n",
    "array_100 = np.identity(2, dtype='complex')\n",
    "print(\"identity::\\n\", array_100)"
   ]
  },
  {
   "cell_type": "code",
   "execution_count": 34,
   "id": "50e9cd6f",
   "metadata": {},
   "outputs": [
    {
     "name": "stdout",
     "output_type": "stream",
     "text": [
      "linspace::\n",
      " [10. 20.]\n",
      "linspace::\n",
      " [10.  12.5 15.  17.5 20. ]\n",
      "linspace::\n",
      " [10 11 12 13 14 15 16 17 18 20]\n",
      "linspace::\n",
      " [10.         10.52631579 11.05263158 11.57894737 12.10526316 12.63157895\n",
      " 13.15789474 13.68421053 14.21052632 14.73684211 15.26315789 15.78947368\n",
      " 16.31578947 16.84210526 17.36842105 17.89473684 18.42105263 18.94736842\n",
      " 19.47368421 20.        ]\n"
     ]
    }
   ],
   "source": [
    "# linspace\n",
    "array_100 = np.linspace(10, 20, 2)\n",
    "print(\"linspace::\\n\", array_100)\n",
    "\n",
    "array_100 = np.linspace(10, 20, 5)\n",
    "print(\"linspace::\\n\", array_100)\n",
    "\n",
    "array_100 = np.linspace(10, 20, 10, dtype='int')\n",
    "print(\"linspace::\\n\", array_100)\n",
    "\n",
    "array_100 = np.linspace(10, 20, 20, dtype='float')\n",
    "print(\"linspace::\\n\", array_100)"
   ]
  },
  {
   "cell_type": "code",
   "execution_count": 35,
   "id": "e4b3bf61",
   "metadata": {},
   "outputs": [
    {
     "name": "stdout",
     "output_type": "stream",
     "text": [
      "logspace::\n",
      " [ 100.          215.443469    464.15888336 1000.        ]\n"
     ]
    }
   ],
   "source": [
    "# logspace\n",
    "array_100 = np.logspace(2.0, 3.0, num=4)\n",
    "print(\"logspace::\\n\", array_100)"
   ]
  },
  {
   "cell_type": "code",
   "execution_count": 36,
   "id": "08b41e6e",
   "metadata": {},
   "outputs": [
    {
     "name": "stdout",
     "output_type": "stream",
     "text": [
      "arrange::\n",
      " [0 1 2 3 4 5 6 7 8 9]\n",
      "arrange[+ve]::\n",
      " [10 12 14 16 18]\n",
      "arrange[-ne]::\n",
      " [20 18 16 14 12]\n"
     ]
    }
   ],
   "source": [
    "# arrange\n",
    "''' do not touch upper limit '''\n",
    "array_100 = np.arange(10)\n",
    "print(\"arrange::\\n\", array_100)\n",
    "\n",
    "array_100 = np.arange(10, 20, 2)\n",
    "print(\"arrange[+ve]::\\n\", array_100)\n",
    "\n",
    "array_100 = np.arange(20, 10, -2)\n",
    "print(\"arrange[-ne]::\\n\", array_100)"
   ]
  },
  {
   "cell_type": "code",
   "execution_count": 37,
   "id": "896ea6e1",
   "metadata": {},
   "outputs": [
    {
     "name": "stdout",
     "output_type": "stream",
     "text": [
      "[0 1 2 3 4 5 6 7 8 9]\n",
      "[0 2 4 6 8]\n",
      "[ 0  1  2  3  4  5  6  7  8  9 10 11]\n",
      "[[ 0  1  2]\n",
      " [ 3  4  5]\n",
      " [ 6  7  8]\n",
      " [ 9 10 11]]\n",
      "[ 0  1  2  3  4  5  6  7  8  9 10 11 12 13 14 15 16 17 18 19 20 21 22 23]\n",
      "[[[ 0  1  2  3]\n",
      "  [ 4  5  6  7]\n",
      "  [ 8  9 10 11]]\n",
      "\n",
      " [[12 13 14 15]\n",
      "  [16 17 18 19]\n",
      "  [20 21 22 23]]]\n"
     ]
    }
   ],
   "source": [
    "np_arange = np.arange(0,10)\n",
    "print(np_arange)\n",
    "\n",
    "np_arange = np.arange(0,10, 2)\n",
    "print(np_arange)\n",
    "\n",
    "np_array = np.arange(12)\n",
    "print(np_array)\n",
    "\n",
    "new_shape = np_array.reshape((4, 3))\n",
    "print(new_shape)\n",
    "\n",
    "np_array = np.arange(24)\n",
    "print(np_array)\n",
    "\n",
    "new_shape = np_array.reshape(2, 3, 4)\n",
    "print(new_shape)"
   ]
  },
  {
   "cell_type": "code",
   "execution_count": 38,
   "id": "b87d42f7",
   "metadata": {},
   "outputs": [
    {
     "name": "stdout",
     "output_type": "stream",
     "text": [
      "reshape[row major]::\n",
      " [[10. 20. 30.]\n",
      " [40. 50. 60.]\n",
      " [70. 80. 90.]]\n",
      "reshape[col major]::\n",
      " [[10. 40. 70.]\n",
      " [20. 50. 80.]\n",
      " [30. 60. 90.]]\n"
     ]
    }
   ],
   "source": [
    "array_100 = array_1D.reshape((3, 3), order='c')\n",
    "print(\"reshape[row major]::\\n\", array_100)\n",
    "\n",
    "array_100 = array_1D.reshape((3, 3), order='f')\n",
    "print(\"reshape[col major]::\\n\", array_100)"
   ]
  },
  {
   "cell_type": "code",
   "execution_count": 39,
   "id": "4d99932a",
   "metadata": {},
   "outputs": [
    {
     "name": "stdout",
     "output_type": "stream",
     "text": [
      "[  7  77  23 130]\n",
      "[ 3 67  3 70]\n",
      "[ 2 66  2 69]\n",
      "[  10  360  130 3000]\n",
      "[ 2.5        14.4         1.3         3.33333333]\n",
      "[ 1  2  3 10]\n",
      "[ 1  2  3 10]\n",
      "[                 25          1934917632        137858491849\n",
      " 1152921504606846976]\n",
      "47.5\n",
      "11.75\n",
      "190\n"
     ]
    }
   ],
   "source": [
    "# Arithmetic Operations\n",
    "a = np.array([5, 72, 13, 100])\n",
    "b = np.array([2, 5, 10, 30])\n",
    "\n",
    "add_ans = a+b   # np.add(a, b)\n",
    "print(add_ans)\n",
    "\n",
    "sub_ans = a-b   # np.subtract(a, b)\n",
    "print(sub_ans)\n",
    "\n",
    "sub_ans = a-b-1 # np.subtract(a, b, 1)\n",
    "print(sub_ans)\n",
    "\n",
    "mul_ans = a*b   # np.multiply(a, b)\n",
    "print(mul_ans)\n",
    "\n",
    "div_ans = a/b   # np.divide(a, b)\n",
    "print(div_ans)\n",
    "\n",
    "mod_ans = np.mod(a, b)\n",
    "print(mod_ans)\n",
    "\n",
    "rem_ans = np.remainder(a, b)\n",
    "print(rem_ans)\n",
    "\n",
    "pow_ans = np.power(a, b)\n",
    "print(pow_ans)\n",
    "\n",
    "mean_a = np.mean(a)\n",
    "print(mean_a)\n",
    "\n",
    "mean_b = np.average(b)\n",
    "print(mean_b)\n",
    "\n",
    "sum_a = np.sum(a)\n",
    "print(sum_a)"
   ]
  },
  {
   "cell_type": "code",
   "execution_count": 40,
   "id": "4a8bf880",
   "metadata": {},
   "outputs": [
    {
     "name": "stdout",
     "output_type": "stream",
     "text": [
      "[1 2 3 4 5]\n",
      "[4 5]\n"
     ]
    }
   ],
   "source": [
    "# operation\n",
    "np_array0 = np_array1.copy()\n",
    "print(np_array0)\n",
    "np_array0 = np_array0[np_array0 >= 4]\n",
    "print(np_array0)"
   ]
  },
  {
   "cell_type": "code",
   "execution_count": 41,
   "id": "5a85b8d2",
   "metadata": {},
   "outputs": [
    {
     "name": "stdout",
     "output_type": "stream",
     "text": [
      "array_where:: (array([3, 4]),)\n",
      "array_where:: (array([], dtype=int64),)\n"
     ]
    }
   ],
   "source": [
    "array_where = np.arange(10, 20, 2)\n",
    "\n",
    "array_where = np.where(array_where > 15)\n",
    "print(\"array_where::\", array_where)\n",
    "\n",
    "array_where = np.where(array_where == 15)\n",
    "print(\"array_where::\", array_where)"
   ]
  },
  {
   "cell_type": "code",
   "execution_count": 42,
   "id": "6bd698bc",
   "metadata": {
    "scrolled": false
   },
   "outputs": [
    {
     "name": "stdout",
     "output_type": "stream",
     "text": [
      "[0.77015137 0.46379347]\n",
      "[[0.7064548  0.60193369]\n",
      " [0.53630047 0.65224427]]\n",
      "[ 1.68572701 -1.33911021]\n",
      "[[ 1.38701102 -0.42004661]\n",
      " [-0.92862854  0.44648936]]\n",
      "403\n",
      "[62 36 37 55]\n"
     ]
    }
   ],
   "source": [
    "# Random\n",
    "my_random = np.random.rand(2)  # [+ve] [0-1]\n",
    "print(my_random)\n",
    "my_random = np.random.rand(2,2)\n",
    "print(my_random)\n",
    "\n",
    "my_random = np.random.randn(2)  # [-ve] [0-1]\n",
    "print(my_random)\n",
    "my_random = np.random.randn(2,2)\n",
    "print(my_random)\n",
    "\n",
    "num = np.random.randint(1,1000)  # [1-100]\n",
    "print(num)\n",
    "num = np.random.randint(0,100,4)  # 4 random numbers between 0 to 100\n",
    "print(num)"
   ]
  },
  {
   "cell_type": "code",
   "execution_count": 43,
   "id": "2bf0eeb2",
   "metadata": {},
   "outputs": [
    {
     "name": "stdout",
     "output_type": "stream",
     "text": [
      "[[0.94353251 0.35942103]\n",
      " [0.78480541 0.59127819]]\n"
     ]
    }
   ],
   "source": [
    "rg = np.random.default_rng(101)\n",
    "print(rg.random((2, 2)))"
   ]
  },
  {
   "cell_type": "code",
   "execution_count": 44,
   "id": "2101aa3b",
   "metadata": {},
   "outputs": [
    {
     "name": "stdout",
     "output_type": "stream",
     "text": [
      "[[0.37454012 0.95071431]\n",
      " [0.73199394 0.59865848]]\n"
     ]
    }
   ],
   "source": [
    "seed = np.random.seed(42)\n",
    "my_random = np.random.rand(2,2)\n",
    "print(my_random)"
   ]
  },
  {
   "cell_type": "code",
   "execution_count": 45,
   "id": "eb8d79db",
   "metadata": {},
   "outputs": [
    {
     "name": "stdout",
     "output_type": "stream",
     "text": [
      "[[ 1  2  3  4]\n",
      " [ 5  6  7  8]\n",
      " [ 9 10 11 12]]\n"
     ]
    }
   ],
   "source": [
    "# Reshaping and flattening multidimensional arrays\n",
    "np_arr = np.array([[1 , 2, 3, 4], [5, 6, 7, 8], [9, 10, 11, 12]])\n",
    "print(np_arr)"
   ]
  },
  {
   "cell_type": "code",
   "execution_count": 46,
   "id": "2a1e9a18",
   "metadata": {},
   "outputs": [
    {
     "name": "stdout",
     "output_type": "stream",
     "text": [
      "[ 1  2  3  4  5  6  7  8  9 10 11 12]\n"
     ]
    }
   ],
   "source": [
    "# When you use flatten, changes to your new array won’t change the parent array.\n",
    "flatten = np_arr.flatten()\n",
    "print(flatten)"
   ]
  },
  {
   "cell_type": "code",
   "execution_count": 47,
   "id": "bb92073f",
   "metadata": {},
   "outputs": [
    {
     "name": "stdout",
     "output_type": "stream",
     "text": [
      "[ 1  2  3  4  5  6  7  8  9 10 11 12]\n"
     ]
    }
   ],
   "source": [
    "# when you use ravel, the changes you make to the new array will affect the parent array.\n",
    "ravel = np_arr.ravel()\n",
    "print(ravel)"
   ]
  },
  {
   "cell_type": "code",
   "execution_count": 48,
   "id": "f8a8a1d4",
   "metadata": {},
   "outputs": [
    {
     "name": "stdout",
     "output_type": "stream",
     "text": [
      "flattened array::\n",
      " [ 10.+0.j  20.+0.j  30.+0.j  40.+0.j  50.+0.j  60.+0.j  70.+0.j  80.+0.j\n",
      "  90.+0.j 100.+0.j]\n"
     ]
    }
   ],
   "source": [
    "# reshape(-1) means make any dim array to 1d\n",
    "array_100 = array_2D.reshape(-1)\n",
    "print(\"flattened array::\\n\", array_100)"
   ]
  },
  {
   "cell_type": "code",
   "execution_count": 49,
   "id": "ed2b1932",
   "metadata": {},
   "outputs": [
    {
     "name": "stdout",
     "output_type": "stream",
     "text": [
      "[[12 11 10  9]\n",
      " [ 8  7  6  5]\n",
      " [ 4  3  2  1]]\n"
     ]
    }
   ],
   "source": [
    "# reverse\n",
    "reversed_arr = np.flip(np_arr)\n",
    "print(reversed_arr)"
   ]
  },
  {
   "cell_type": "code",
   "execution_count": 50,
   "id": "a8b6c373",
   "metadata": {},
   "outputs": [
    {
     "name": "stdout",
     "output_type": "stream",
     "text": [
      "[[ 4  3  2  1]\n",
      " [ 8  7  6  5]\n",
      " [12 11 10  9]]\n"
     ]
    }
   ],
   "source": [
    "reversed_arr_rows = np.flip(np_arr, axis=1)\n",
    "print(reversed_arr_rows)"
   ]
  },
  {
   "cell_type": "code",
   "execution_count": 51,
   "id": "9664b697",
   "metadata": {},
   "outputs": [
    {
     "name": "stdout",
     "output_type": "stream",
     "text": [
      "[[ 1  5  9]\n",
      " [ 2  6 10]\n",
      " [ 3  7 11]\n",
      " [ 4  8 12]]\n"
     ]
    }
   ],
   "source": [
    "# transpose\n",
    "T = np_arr.T\n",
    "print(T)"
   ]
  },
  {
   "cell_type": "markdown",
   "id": "48bdf9b1",
   "metadata": {},
   "source": [
    "# Few Useful Method\n",
    "https://www.geeksforgeeks.org/python-numpy/"
   ]
  },
  {
   "cell_type": "code",
   "execution_count": 52,
   "id": "9d3cbf60",
   "metadata": {},
   "outputs": [
    {
     "name": "stdout",
     "output_type": "stream",
     "text": [
      "output_0:: [[1 2]\n",
      " [3 4]\n",
      " [5 6]\n",
      " [7 8]]\n",
      "output_0:: [[1 2 5 6]\n",
      " [3 4 7 8]]\n",
      "output_0:: [1 2 3 4 5 6 7 8]\n"
     ]
    }
   ],
   "source": [
    "# concatenate\n",
    "a = np.array([[1, 2], [3, 4]])\n",
    "b = np.array([[5, 6], [7, 8]])\n",
    "\n",
    "output_0 = np.concatenate((a, b), axis=0)\n",
    "print(\"output_0::\", output_0)\n",
    "\n",
    "output_0 = np.concatenate((a, b), axis=1)\n",
    "print(\"output_0::\", output_0)\n",
    "\n",
    "output_0 = np.concatenate((a, b), axis=None)\n",
    "print(\"output_0::\", output_0)"
   ]
  },
  {
   "cell_type": "code",
   "execution_count": 53,
   "id": "5fbebb73",
   "metadata": {},
   "outputs": [
    {
     "name": "stdout",
     "output_type": "stream",
     "text": [
      "asarray[order=[row major]]::\n",
      " [[10 20 30]\n",
      " [40 50 60]\n",
      " [70 80 90]]\n",
      "asarray[order=[col major]::\n",
      " [[10 40 70]\n",
      " [20 50 80]\n",
      " [30 60 90]]\n"
     ]
    }
   ],
   "source": [
    "# asarray [help to change data type]\n",
    "array_100 = np.asarray(array_1D, dtype='int').reshape((3,3), order='c')\n",
    "print(\"asarray[order=[row major]]::\\n\", array_100)\n",
    "\n",
    "array_100 = np.asarray(array_1D, dtype='int').reshape((3, 3), order='F')\n",
    "print(\"asarray[order=[col major]::\\n\", array_100)"
   ]
  },
  {
   "cell_type": "code",
   "execution_count": 54,
   "id": "5250fa81",
   "metadata": {},
   "outputs": [
    {
     "name": "stdout",
     "output_type": "stream",
     "text": [
      "array_split::\n",
      " [array([10, 12]), array([14, 16]), array([18])]\n"
     ]
    }
   ],
   "source": [
    "# array_split\n",
    "array_100 = np.arange(10, 20, 2)\n",
    "\n",
    "array_100 = np.array_split(array_100, 3)\n",
    "print(\"array_split::\\n\", array_100)"
   ]
  },
  {
   "cell_type": "code",
   "execution_count": 55,
   "id": "65b4cdd7",
   "metadata": {},
   "outputs": [
    {
     "name": "stdout",
     "output_type": "stream",
     "text": [
      "deleted_array::\n",
      " [0 1 2 3 4]\n",
      "array_after_insert::[axis=0]\n",
      " [[ 0  1  2]\n",
      " [ 3  4  5]\n",
      " [50 50 50]]\n",
      "array_after_insert::[axis=1]\n",
      " [[ 0  1 50  2]\n",
      " [ 3  4 50  5]]\n"
     ]
    }
   ],
   "source": [
    "# insert/delete\n",
    "array_500 = np.arange(6).reshape((2, 3))\n",
    "\n",
    "array_after_delete = np.delete(array_500, 5)\n",
    "print(\"deleted_array::\\n\", array_after_delete)\n",
    "\n",
    "array_after_insert = np.insert(array_500, obj=2, values=50, axis=0)\n",
    "print(\"array_after_insert::[axis=0]\\n\", array_after_insert)\n",
    "\n",
    "array_after_insert = np.insert(array_500, obj=2, values=50, axis=1)\n",
    "print(\"array_after_insert::[axis=1]\\n\", array_after_insert)"
   ]
  },
  {
   "cell_type": "code",
   "execution_count": 56,
   "id": "2cfd19ad",
   "metadata": {},
   "outputs": [
    {
     "name": "stdout",
     "output_type": "stream",
     "text": [
      "bwt_and 1\n",
      "binary_format 1100\n"
     ]
    }
   ],
   "source": [
    "# Binary operations\n",
    "bwt_and= np.bitwise_and(13, 17)\n",
    "print(\"bwt_and\", bwt_and)\n",
    "\n",
    "binary_format = np.binary_repr(12)\n",
    "print(\"binary_format\", binary_format)\n",
    "\n",
    "# left_sft = np.left_shift(5, 2)\n",
    "# print(\"left_shift\", left_shift)"
   ]
  },
  {
   "cell_type": "code",
   "execution_count": 57,
   "id": "96038ae7",
   "metadata": {},
   "outputs": [
    {
     "name": "stdout",
     "output_type": "stream",
     "text": [
      "capitalize::  ['Python' 'Numpy' '55']\n",
      "lower::  ['python' 'numpy' '55']\n",
      "str_add::  ['pythOn1' 'numPy2' '557']\n",
      "str_multi::  ['aaaaa' 'bbbbb' 'ccccc']\n",
      "str_multi::  [['aaaaa' 'bbbbb' 'ccccc']\n",
      " ['ddddd' 'eeeee' 'fffff']]\n",
      "str_replace::  ['That is a banana' 'Monkeys eat bananas']\n"
     ]
    }
   ],
   "source": [
    "# String operations\n",
    "array_100 = np.array([\"pythOn\", \"numPy\", 55])\n",
    "array_200 = np.array([\"1\", \"2\", \"7\"])\n",
    "\n",
    "capitalize = np.char.capitalize(array_100)\n",
    "print(\"capitalize:: \", capitalize)\n",
    "\n",
    "lower = np.char.lower(array_100)\n",
    "print(\"lower:: \", lower)\n",
    "\n",
    "str_add = np.char.add(array_100, array_200)\n",
    "print(\"str_add:: \", str_add)\n",
    "\n",
    "str_multi = np.array([\"a\", \"b\", \"c\"])\n",
    "str_multi = np.char.multiply(str_multi, 5)\n",
    "print(\"str_multi:: \", str_multi)\n",
    "\n",
    "str_multi = np.array(['a', 'b', 'c', 'd', 'e', 'f']).reshape((2, 3))\n",
    "str_multi = np.char.multiply(str_multi, 5)\n",
    "print(\"str_multi:: \", str_multi)\n",
    "\n",
    "str_replace = np.array([\"That is a mango\", \"Monkeys eat mangos\"])\n",
    "str_replace = np.char.replace(str_replace, 'mango', 'banana')\n",
    "print(\"str_replace:: \", str_replace)"
   ]
  },
  {
   "cell_type": "code",
   "execution_count": 58,
   "id": "a7d7efda",
   "metadata": {},
   "outputs": [
    {
     "name": "stdout",
     "output_type": "stream",
     "text": [
      "output_0::\n",
      " [[ 1  2  3  4]\n",
      " [ 5  6  7  8]\n",
      " [ 9 10 11 12]\n",
      " [ 1  2  3  4]\n",
      " [ 5  6  7  8]\n",
      " [ 9 10 11 12]]\n",
      "output_0::\n",
      " [[ 1  2  3  4  1  2  3  4]\n",
      " [ 5  6  7  8  5  6  7  8]\n",
      " [ 9 10 11 12  9 10 11 12]]\n"
     ]
    }
   ],
   "source": [
    "# stacking\n",
    "np_arr = np.array([[1, 2, 3, 4], [5, 6, 7, 8], [9, 10, 11, 12]])\n",
    "\n",
    "output_0 = np.vstack([np_arr, np_arr])\n",
    "print(\"output_0::\\n\", output_0)\n",
    "\n",
    "output_0 = np.hstack([np_arr, np_arr])\n",
    "print(\"output_0::\\n\", output_0)"
   ]
  },
  {
   "cell_type": "code",
   "execution_count": 59,
   "id": "6d67455d",
   "metadata": {},
   "outputs": [
    {
     "name": "stdout",
     "output_type": "stream",
     "text": [
      "arr1= 1 arr2= 4\n",
      "arr1= 1 arr2= 4\n",
      "arr1= 2 arr2= 5\n",
      "[5 7]\n"
     ]
    }
   ],
   "source": [
    "# Vectorization\n",
    "def add(arr1, arr2):\n",
    "    print(\"arr1=\", arr1, \"arr2=\", arr2)\n",
    "    return (arr1 + arr2)\n",
    "\n",
    "arr1 = np.array([1,2])\n",
    "arr2 = np.array([4,5])\n",
    "vectorized_add = np.vectorize(add)\n",
    "result = vectorized_add(arr1, arr2)\n",
    "print(result)"
   ]
  },
  {
   "cell_type": "code",
   "execution_count": 60,
   "id": "d0ff71a7",
   "metadata": {},
   "outputs": [
    {
     "name": "stdout",
     "output_type": "stream",
     "text": [
      "[[ 1  2  3  4]\n",
      " [ 5  6  7  8]\n",
      " [ 9 10 11 12]]\n"
     ]
    }
   ],
   "source": [
    "np_arr = np.array([[1, 2, 3, 4], [5, 6, 7, 8], [9, 10, 11, 12]])\n",
    "print(np_arr)\n",
    "\n",
    "np_arr.argmin() # return index of min value \n",
    "np_arr.argmax() # return index of max value\n",
    "\n",
    "np.insert(np_arr, 1, 9)  # insert 9 at position 1\n",
    "np.delete(np_arr, 9)     # delete 9 from array\n",
    "np_arr = np.append(np_arr, np_arr)   # [......]\n",
    "round_off_values = np.around(np_arr) # round value\n",
    "\n",
    "out = np.power([1, 2, 3, 4], [0, 1, 2, 3])\n",
    "out= np.equal([1., 2.], [1., 3.]) # [True, False]\n",
    "\n",
    "a = np_arr.copy() # deep copy\n",
    "b = np_arr.view() # shallow copy"
   ]
  }
 ],
 "metadata": {
  "kernelspec": {
   "display_name": "Python 3 (ipykernel)",
   "language": "python",
   "name": "python3"
  },
  "language_info": {
   "codemirror_mode": {
    "name": "ipython",
    "version": 3
   },
   "file_extension": ".py",
   "mimetype": "text/x-python",
   "name": "python",
   "nbconvert_exporter": "python",
   "pygments_lexer": "ipython3",
   "version": "3.8.10"
  },
  "vscode": {
   "interpreter": {
    "hash": "6a55e8d13510ae47bb691664d7d8fc97e066af3657a003ee46e9fe973920699b"
   }
  }
 },
 "nbformat": 4,
 "nbformat_minor": 5
}
